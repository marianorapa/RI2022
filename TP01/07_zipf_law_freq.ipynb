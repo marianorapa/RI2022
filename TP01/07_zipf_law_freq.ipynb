{
 "cells": [
  {
   "cell_type": "code",
   "execution_count": 5,
   "id": "cc7004e4-e048-40a0-b2d7-04cd189aee91",
   "metadata": {},
   "outputs": [],
   "source": [
    "import sys\n",
    "import pathlib\n",
    "import os\n",
    "from nltk.stem.snowball import SpanishStemmer\n",
    "import re"
   ]
  },
  {
   "cell_type": "code",
   "execution_count": 6,
   "id": "f5b0f14b-bb89-4bd7-9c7a-4ac477c6555b",
   "metadata": {
    "tags": []
   },
   "outputs": [],
   "source": [
    "MIN_LENGTH = 2\n",
    "MAX_LENGTH = 25\n",
    "stemming_enabled = True\n",
    "in_file = \"quijote.txt\"\n",
    "palabras_vacias = []"
   ]
  },
  {
   "cell_type": "markdown",
   "id": "23caa1fb-50a2-467e-9cb4-f71d5797e670",
   "metadata": {},
   "source": [
    "Definimos algunas funciones para normalizar las cadenas. Tomamos como base los programas anteriores, eliminando signos de puntuación, tildes y pasando a minúsculas.  "
   ]
  },
  {
   "cell_type": "code",
   "execution_count": 7,
   "id": "ef849238-4f4b-46a6-a1aa-ffc2021103aa",
   "metadata": {},
   "outputs": [],
   "source": [
    "def remove_punctuation(token):\n",
    "    return re.sub(\"\\W\", \"\", token)\n",
    "\n",
    "def translate(to_translate):\n",
    "    tabin = u'áäâàãéëèêẽíïĩìîóõöòôúüùûũ'\n",
    "    tabout = u'aaaaaeeeeeiiiiiooooouuuuu'\n",
    "    tabin = [ord(char) for char in tabin]\n",
    "    translate_table = dict(zip(tabin, tabout))\n",
    "    return to_translate.translate(translate_table)\n",
    "\n",
    "def normalize(token):\n",
    "    result = token.lower()\n",
    "    result = translate(result)       \n",
    "    return result"
   ]
  },
  {
   "cell_type": "code",
   "execution_count": 8,
   "id": "e88e7827-0c7c-4e5b-b6a6-0fcdb91eb518",
   "metadata": {},
   "outputs": [],
   "source": [
    "frequencies = {}\n",
    "total_tokens  = 0\n",
    "total_terms = 0\n",
    "\n",
    "if stemming_enabled:\n",
    "    stemmer = SpanishStemmer()\n",
    "\n",
    "with open(in_file, \"r\", encoding=\"utf-8\") as f:\n",
    "    for line in f.readlines():\n",
    "        tokens_list = [remove_punctuation(normalize(x)) for x in line.strip().split()]\n",
    "\n",
    "        for token in tokens_list:                                     \n",
    "            total_tokens += 1\n",
    "            if token not in palabras_vacias and len(token) >= MIN_LENGTH and len(token) <= MAX_LENGTH:\n",
    "                if stemming_enabled:\n",
    "                    token = stemmer.stem(token)\n",
    "                if token in frequencies.keys():\n",
    "                    frequencies[token] += 1\n",
    "                else: # Si es la primera vez que veo este token, se agrega a los términos en 1\n",
    "                    frequencies[token] = 1         \n",
    "                    total_terms += 1                    "
   ]
  },
  {
   "cell_type": "code",
   "execution_count": 9,
   "id": "28aab69e-c548-441a-ae50-05f2c51e4e42",
   "metadata": {},
   "outputs": [],
   "source": [
    "sorted_dict = dict(sorted(frequencies.items(), key=lambda item: item[1], reverse=True))"
   ]
  },
  {
   "cell_type": "markdown",
   "id": "14ad3e1d-44b8-4d6c-81cd-eed686e80a27",
   "metadata": {},
   "source": [
    "Dentro de un diccionario almacenamos los términos y la fecuencia de cada uno. Luego lo ordenamos de mayor a menor por la misma.\n",
    "\n",
    "A continuación, hacemos una transformación a escala logarítmica y calculamos una recta de ajuste:"
   ]
  },
  {
   "cell_type": "markdown",
   "id": "7d80075c-b9f5-415b-b222-67f0ddeb1a34",
   "metadata": {},
   "source": [
    "Ahora mantenemos la escala original, y calculamos una curva de ajuste para esta. "
   ]
  },
  {
   "cell_type": "code",
   "execution_count": 10,
   "id": "65d3110d-2ebd-4b76-ac23-0a4c6c76d652",
   "metadata": {},
   "outputs": [],
   "source": [
    "import numpy as np\n",
    "\n",
    "x = list(range(1,len(sorted_dict)+1))\n",
    "y = list(sorted_dict.values())\n",
    "\n",
    "x_log = np.log(x)\n",
    "y_log = np.log(y)"
   ]
  },
  {
   "cell_type": "code",
   "execution_count": 11,
   "id": "f1223045-b4bb-40f1-ac20-764c0e15ffca",
   "metadata": {},
   "outputs": [],
   "source": [
    "from scipy.optimize import curve_fit\n",
    "\n",
    "def func(x, a, b):\n",
    "    return a*(x**b)\n",
    "\n",
    "popt, pcov = curve_fit(func, x, y)\n",
    "y_pred = func(x, *popt)"
   ]
  },
  {
   "cell_type": "code",
   "execution_count": 13,
   "id": "97313144-f60e-42bc-bd77-94cf84741440",
   "metadata": {},
   "outputs": [
    {
     "data": {
      "image/png": "[encoded data removed]",
      "text/plain": [
       "<Figure size 432x288 with 1 Axes>"
      ]
     },
     "metadata": {
      "needs_background": "light"
     },
     "output_type": "display_data"
    }
   ],
   "source": [
    "import matplotlib.pyplot as plt\n",
    "plt.scatter(x, y_pred, color=\"red\")\n",
    "plt.scatter(x,y)\n",
    "plt.show()"
   ]
  },
  {
   "cell_type": "code",
   "execution_count": 14,
   "id": "2f779e27-4e9e-4341-9bb1-4c11c70068ea",
   "metadata": {},
   "outputs": [],
   "source": [
    "import pandas as pd\n",
    "\n",
    "predicted_df = pd.DataFrame({'x':x, 'y':y_pred})\n",
    "real_df = pd.DataFrame({'x':x, 'y':y}) "
   ]
  },
  {
   "cell_type": "code",
   "execution_count": 41,
   "id": "28ec572b-e3d4-4ca2-b4af-00d8ba6e9535",
   "metadata": {},
   "outputs": [
    {
     "name": "stdout",
     "output_type": "stream",
     "text": [
      "0.00026016824212991065\n",
      "0.004336137368831845\n",
      "0.07163298933310207\n"
     ]
    }
   ],
   "source": [
    "predicted_10000 = len(predicted_df[predicted_df[\"y\"] >= 10000])/len(predicted_df)\n",
    "predicted_1000 = len(predicted_df[predicted_df[\"y\"] >= 1000])/len(predicted_df)\n",
    "predicted_100 = len(predicted_df[predicted_df[\"y\"] >= 100])/len(predicted_df)\n",
    "\n",
    "print(predicted_10000)\n",
    "print(predicted_1000)\n",
    "print(predicted_100)"
   ]
  },
  {
   "cell_type": "code",
   "execution_count": 44,
   "id": "f0d734f0-6b87-48bd-b34c-6e1af030400f",
   "metadata": {},
   "outputs": [
    {
     "name": "stdout",
     "output_type": "stream",
     "text": [
      "0.00026016824212991065\n",
      "0.00416269187407857\n",
      "0.04101985950914925\n"
     ]
    }
   ],
   "source": [
    "real_10000 = len(real_df[real_df[\"y\"] >= 10000])/len(real_df)\n",
    "real_1000 = len(real_df[real_df[\"y\"] >= 1000])/len(real_df)\n",
    "real_100 = len(real_df[real_df[\"y\"] >= 100])/len(real_df)\n",
    "\n",
    "print(real_10000)\n",
    "print(real_1000)\n",
    "print(real_100)"
   ]
  },
  {
   "cell_type": "markdown",
   "id": "d3c9b7fe-ea31-42bf-ba48-86d862042ba9",
   "metadata": {},
   "source": [
    "Como podemos observar, los resultados no son tan distintos entre la predicción y la realidad. Estos valores demuestran efectivamente lo que propone la Ley de Zipf, y es que hay unos pocos valores que ocurren muchas veces (menos del 4% si consideramos 100 como referencia), y muchos valores que ocurren pocas veces (menos de 100 veces). De hecho, la predicción es más generosa que la realidad, dado que en esta solo el 4% de los términos están más de 100 veces (incluso cuando la frecuencia 100 es 20 veces menor que la mayor). \n",
    "\n",
    "A su vez, podemos ver la relación de crecimiento en la cantidad de términos conforme decrece la frecuencia: disminuyendo de f=10000 a f=1000 (reducción por 10), el aumento de términos es de aproximamente 16 veces. Luego, volvemos a reducir por 10 (o 100 sobre el original), y la frecuencia aumenta ~10 veces "
   ]
  }
 ],
 "metadata": {
  "kernelspec": {
   "display_name": "Python 3 (ipykernel)",
   "language": "python",
   "name": "python3"
  },
  "language_info": {
   "codemirror_mode": {
    "name": "ipython",
    "version": 3
   },
   "file_extension": ".py",
   "mimetype": "text/x-python",
   "name": "python",
   "nbconvert_exporter": "python",
   "pygments_lexer": "ipython3",
   "version": "3.9.2"
  }
 },
 "nbformat": 4,
 "nbformat_minor": 5
}
