{
 "cells": [
  {
   "cell_type": "code",
   "execution_count": 1,
   "id": "cc7004e4-e048-40a0-b2d7-04cd189aee91",
   "metadata": {},
   "outputs": [],
   "source": [
    "import sys\n",
    "import pathlib\n",
    "import os\n",
    "from nltk.stem.snowball import SpanishStemmer\n",
    "import re"
   ]
  },
  {
   "cell_type": "code",
   "execution_count": 2,
   "id": "f5b0f14b-bb89-4bd7-9c7a-4ac477c6555b",
   "metadata": {
    "tags": []
   },
   "outputs": [],
   "source": [
    "MIN_LENGTH = 2\n",
    "MAX_LENGTH = 25\n",
    "stemming_enabled = True\n",
    "in_file = \"quijote.txt\"\n",
    "palabras_vacias = []"
   ]
  },
  {
   "cell_type": "markdown",
   "id": "23caa1fb-50a2-467e-9cb4-f71d5797e670",
   "metadata": {},
   "source": [
    "Definimos algunas funciones para normalizar las cadenas. Tomamos como base los programas anteriores, eliminando signos de puntuación, tildes y pasando a minúsculas.  "
   ]
  },
  {
   "cell_type": "code",
   "execution_count": 3,
   "id": "ef849238-4f4b-46a6-a1aa-ffc2021103aa",
   "metadata": {},
   "outputs": [],
   "source": [
    "def remove_punctuation(token):\n",
    "    return re.sub(\"[\\W_]\", \"\", token)\n",
    "\n",
    "def translate(to_translate):\n",
    "    tabin = u'áäâàãéëèêẽíïĩìîóõöòôúüùûũ'\n",
    "    tabout = u'aaaaaeeeeeiiiiiooooouuuuu'\n",
    "    tabin = [ord(char) for char in tabin]\n",
    "    translate_table = dict(zip(tabin, tabout))\n",
    "    return to_translate.translate(translate_table)\n",
    "\n",
    "def normalize(token):\n",
    "    result = token.lower()\n",
    "    result = translate(result)       \n",
    "    return result"
   ]
  },
  {
   "cell_type": "code",
   "execution_count": 4,
   "id": "e88e7827-0c7c-4e5b-b6a6-0fcdb91eb518",
   "metadata": {},
   "outputs": [],
   "source": [
    "frequencies = {}\n",
    "total_tokens  = 0\n",
    "total_terms = 0\n",
    "\n",
    "if stemming_enabled:\n",
    "    stemmer = SpanishStemmer()\n",
    "\n",
    "with open(in_file, \"r\", encoding=\"utf-8\") as f:\n",
    "    for line in f.readlines():\n",
    "        tokens_list = [remove_punctuation(normalize(x)) for x in line.strip().split()]\n",
    "\n",
    "        for token in tokens_list:                                     \n",
    "            total_tokens += 1\n",
    "            if token not in palabras_vacias and len(token) >= MIN_LENGTH and len(token) <= MAX_LENGTH:\n",
    "                if stemming_enabled:\n",
    "                    token = stemmer.stem(token)\n",
    "                if token in frequencies.keys():\n",
    "                    frequencies[token] += 1\n",
    "                else: # Si es la primera vez que veo este token, se agrega a los términos en 1\n",
    "                    frequencies[token] = 1         \n",
    "                    total_terms += 1                    "
   ]
  },
  {
   "cell_type": "code",
   "execution_count": 5,
   "id": "28aab69e-c548-441a-ae50-05f2c51e4e42",
   "metadata": {},
   "outputs": [],
   "source": [
    "sorted_dict = dict(sorted(frequencies.items(), key=lambda item: item[1], reverse=True))"
   ]
  },
  {
   "cell_type": "markdown",
   "id": "14ad3e1d-44b8-4d6c-81cd-eed686e80a27",
   "metadata": {},
   "source": [
    "Dentro de un diccionario almacenamos los términos y la fecuencia de cada uno. Luego lo ordenamos de mayor a menor por la misma.\n",
    "\n",
    "A continuación, hacemos una transformación a escala logarítmica y calculamos una recta de ajuste:"
   ]
  },
  {
   "cell_type": "code",
   "execution_count": 23,
   "id": "7fc6e841-f131-4bbe-a937-c6cfb1d6a75b",
   "metadata": {},
   "outputs": [],
   "source": [
    "import numpy as np\n",
    "\n",
    "x = list(range(1,len(sorted_dict)+1))\n",
    "y = list(sorted_dict.values())\n",
    "\n",
    "x_log = np.log(x)\n",
    "y_log = np.log(y)"
   ]
  },
  {
   "cell_type": "code",
   "execution_count": 24,
   "id": "4ce877f0-bc5a-469e-bb7c-c8de94da2c84",
   "metadata": {},
   "outputs": [],
   "source": [
    "ajuste = np.polyfit(list(x_log), y_log, 1)\n",
    "recta = np.poly1d(ajuste)"
   ]
  },
  {
   "cell_type": "code",
   "execution_count": 25,
   "id": "0d31d584-19f5-40b3-9c53-61c5284f8ab0",
   "metadata": {},
   "outputs": [],
   "source": [
    "y_log_pred = x_log*recta[1] + recta[0]"
   ]
  },
  {
   "cell_type": "code",
   "execution_count": 46,
   "id": "b16a5f8c-504d-454e-bb58-0bcab9f3798e",
   "metadata": {},
   "outputs": [
    {
     "data": {
      "image/png": "[encoded data removed]",
      "text/plain": [
       "<Figure size 432x288 with 1 Axes>"
      ]
     },
     "metadata": {
      "needs_background": "light"
     },
     "output_type": "display_data"
    }
   ],
   "source": [
    "import matplotlib.pyplot as plt\n",
    "plt.scatter(x_log, y_log)\n",
    "plt.plot(x_log, y_log_pred, color=\"red\")\n",
    "plt.show()"
   ]
  },
  {
   "cell_type": "markdown",
   "id": "7d80075c-b9f5-415b-b222-67f0ddeb1a34",
   "metadata": {},
   "source": [
    "Ahora mantenemos la escala original, y calculamos una curva de ajuste para esta. "
   ]
  },
  {
   "cell_type": "code",
   "execution_count": 37,
   "id": "f1223045-b4bb-40f1-ac20-764c0e15ffca",
   "metadata": {},
   "outputs": [],
   "source": [
    "from scipy.optimize import curve_fit\n",
    "\n",
    "def func(x, a, b):\n",
    "    return a*(x**b)\n",
    "\n",
    "popt, pcov = curve_fit(func, x, y)\n",
    "y_pred = func(x, *popt)"
   ]
  },
  {
   "cell_type": "code",
   "execution_count": 39,
   "id": "97313144-f60e-42bc-bd77-94cf84741440",
   "metadata": {},
   "outputs": [
    {
     "data": {
      "image/png": "[encoded data removed]",
      "text/plain": [
       "<Figure size 432x288 with 1 Axes>"
      ]
     },
     "metadata": {
      "needs_background": "light"
     },
     "output_type": "display_data"
    }
   ],
   "source": [
    "plt.scatter(x, y_pred, color=\"red\")\n",
    "plt.scatter(x,y)\n",
    "plt.show()"
   ]
  },
  {
   "cell_type": "markdown",
   "id": "e043a9ae-fcfd-4f3e-8909-936cfe12e7b5",
   "metadata": {},
   "source": [
    "En el gráfico anterior vemos en rojo los puntos del ajuste, y en azul los puntos de la distribución original.\n",
    "\n",
    "Medimos ahora la correlación entre los puntos en ambas escalas, para comprobar cómo se comporta la predicción."
   ]
  },
  {
   "cell_type": "code",
   "execution_count": 42,
   "id": "f3456680-a611-4ab0-a923-261bb3cc951e",
   "metadata": {},
   "outputs": [
    {
     "data": {
      "text/plain": [
       "array([[1.        , 0.98564441],\n",
       "       [0.98564441, 1.        ]])"
      ]
     },
     "execution_count": 42,
     "metadata": {},
     "output_type": "execute_result"
    }
   ],
   "source": [
    "np.corrcoef(y, y_pred)"
   ]
  },
  {
   "cell_type": "code",
   "execution_count": 44,
   "id": "9ff54d25-6b9f-4ecd-9c37-7e90f51b78c0",
   "metadata": {},
   "outputs": [
    {
     "data": {
      "text/plain": [
       "array([[1.        , 0.98757155],\n",
       "       [0.98757155, 1.        ]])"
      ]
     },
     "execution_count": 44,
     "metadata": {},
     "output_type": "execute_result"
    }
   ],
   "source": [
    "np.corrcoef(y_log, y_log_pred)"
   ]
  },
  {
   "cell_type": "markdown",
   "id": "20ac60bf-87ba-4988-b543-718d69bdf717",
   "metadata": {},
   "source": [
    "Como podemos observar, el coeficiente de correlación entre la predicción y los valores reales es muy alto. Si bien esto se ve gráficamente, al plotearlo perdemos de vista la cantidad de observaciones, debido al solapamiento de los puntos. Sobre la izquierda de los gráficos hay una diferencia notoria entre la predicción y los valores reales, correspondiéndose a aquellos términos con mayor frecuencia. Sin embargo, son poco numerosos, y a partir de allí comienza la mayor concentración de observaciones entre las que se presenta tal similitud.\n",
    "\n",
    "En principio, este experimento nos sirve para verificar el cumplimiento de la Ley de Zipf, dado que al realizar el ajuste tomamos como función de ajuste a la planteada en la power law. Con esto, obtuvimos los coeficientes de la ecucación, y al calcularla para la distribución original (los rankings), obtuvimos los valores ajustados a ella. Dado que al comparar la correlación con la frecuencia de la distribución original el coeficiente fue tan alto, los resultados coinciden con los enunciados de referencia.\n"
   ]
  }
 ],
 "metadata": {
  "kernelspec": {
   "display_name": "Python 3 (ipykernel)",
   "language": "python",
   "name": "python3"
  },
  "language_info": {
   "codemirror_mode": {
    "name": "ipython",
    "version": 3
   },
   "file_extension": ".py",
   "mimetype": "text/x-python",
   "name": "python",
   "nbconvert_exporter": "python",
   "pygments_lexer": "ipython3",
   "version": "3.9.11"
  }
 },
 "nbformat": 4,
 "nbformat_minor": 5
}
