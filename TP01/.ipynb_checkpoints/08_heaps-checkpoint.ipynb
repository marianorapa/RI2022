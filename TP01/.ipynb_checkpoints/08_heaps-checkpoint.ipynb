{
 "cells": [
  {
   "cell_type": "code",
   "execution_count": 32,
   "id": "cd7f53d5-4d4f-4bb4-af06-cfedf0fcefc9",
   "metadata": {},
   "outputs": [],
   "source": [
    "# Lista de archivos a procesar\n",
    "file_paths = [\"quijote.txt\"]"
   ]
  },
  {
   "cell_type": "code",
   "execution_count": 33,
   "id": "a974dc4f-735d-4a0f-9c2b-9c130b59a73f",
   "metadata": {},
   "outputs": [],
   "source": [
    "import sys\n",
    "import pathlib\n",
    "import os\n",
    "from nltk.stem.snowball import SpanishStemmer\n",
    "import re"
   ]
  },
  {
   "cell_type": "code",
   "execution_count": 34,
   "id": "3a1617c8-de3b-4520-b2b1-622ec6bdb31a",
   "metadata": {},
   "outputs": [],
   "source": [
    "MIN_LENGTH = 2\n",
    "MAX_LENGTH = 25\n",
    "stemming_enabled = False\n",
    "palabras_vacias = []"
   ]
  },
  {
   "cell_type": "code",
   "execution_count": 35,
   "id": "f398967a-c6fd-4245-b126-c4b575294ebe",
   "metadata": {},
   "outputs": [],
   "source": [
    "def remove_punctuation(token):\n",
    "    return re.sub(\"\\W\", \"\", token)\n",
    "\n",
    "def translate(to_translate):\n",
    "    tabin = u'áäâàãéëèêẽíïĩìîóõöòôúüùûũ'\n",
    "    tabout = u'aaaaaeeeeeiiiiiooooouuuuu'\n",
    "    tabin = [ord(char) for char in tabin]\n",
    "    translate_table = dict(zip(tabin, tabout))\n",
    "    return to_translate.translate(translate_table)\n",
    "\n",
    "def normalize(token):\n",
    "    result = token.lower()\n",
    "    result = translate(result)       \n",
    "    return result"
   ]
  },
  {
   "cell_type": "code",
   "execution_count": 36,
   "id": "7c3abb6c-6b0c-4b0b-a34b-96f2d7202386",
   "metadata": {},
   "outputs": [],
   "source": [
    "frequencies = {}\n",
    "\n",
    "tokens = []\n",
    "terms = []\n",
    "\n",
    "total_tokens  = 0\n",
    "total_terms = 0\n",
    "\n",
    "if stemming_enabled:\n",
    "    stemmer = SpanishStemmer()\n",
    "\n",
    "for in_file in file_paths:\n",
    "    with open(in_file, \"r\", encoding=\"utf-8\") as f:\n",
    "        for line in f.readlines():\n",
    "            tokens_list = [remove_punctuation(normalize(x)) for x in line.strip().split()]\n",
    "\n",
    "            for token in tokens_list:                                     \n",
    "                total_tokens += 1                \n",
    "                if token not in palabras_vacias and len(token) >= MIN_LENGTH and len(token) <= MAX_LENGTH:\n",
    "                    if stemming_enabled:\n",
    "                        token = stemmer.stem(token)\n",
    "                    if token in frequencies.keys():\n",
    "                        frequencies[token] += 1                        \n",
    "                    else: # Si es la primera vez que veo este token, se agrega a los términos en 1\n",
    "                        frequencies[token] = 1\n",
    "                        total_terms += 1                \n",
    "                terms.append(total_terms)\n"
   ]
  },
  {
   "cell_type": "code",
   "execution_count": 37,
   "id": "a157a9f7-f3eb-42f2-b0ff-eee823a53ec7",
   "metadata": {},
   "outputs": [],
   "source": [
    "y_terms = terms\n",
    "x_tokens = list(range(1, total_tokens+1))"
   ]
  },
  {
   "cell_type": "markdown",
   "id": "1017c630-27d4-4a2e-bc4f-227f6a3d451e",
   "metadata": {},
   "source": [
    "Para verificar la Ley de Heaps vamos almacenando la cuenta de tokens procesados cada vez que aparece un término nuevo. Luego generamos el rango de valores (en definitiva, serán los mismos que si hubiéramos guardado el valor al momento de actualizar la cuenta de términos) para así contar con dos vectores, a partir de los cuales generar un gráfico como el que sigue:"
   ]
  },
  {
   "cell_type": "code",
   "execution_count": 38,
   "id": "de749bf8-840d-4eba-adae-5d15c226d38d",
   "metadata": {},
   "outputs": [
    {
     "data": {
      "image/png": "[encoded data removed]",
      "text/plain": [
       "<Figure size 432x288 with 1 Axes>"
      ]
     },
     "metadata": {
      "needs_background": "light"
     },
     "output_type": "display_data"
    }
   ],
   "source": [
    "import matplotlib.pyplot as plt\n",
    "plt.plot(x_tokens, y_terms)\n",
    "plt.show()"
   ]
  }
 ],
 "metadata": {
  "kernelspec": {
   "display_name": "Python 3 (ipykernel)",
   "language": "python",
   "name": "python3"
  },
  "language_info": {
   "codemirror_mode": {
    "name": "ipython",
    "version": 3
   },
   "file_extension": ".py",
   "mimetype": "text/x-python",
   "name": "python",
   "nbconvert_exporter": "python",
   "pygments_lexer": "ipython3",
   "version": "3.9.2"
  }
 },
 "nbformat": 4,
 "nbformat_minor": 5
}
